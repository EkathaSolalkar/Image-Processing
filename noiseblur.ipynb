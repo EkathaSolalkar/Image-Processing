{
 "cells": [
  {
   "cell_type": "code",
   "execution_count": 2,
   "id": "dbe5e4f6",
   "metadata": {},
   "outputs": [],
   "source": [
    "#arithmetic operations on image\n",
    "import cv2\n",
    "import matplotlib.pyplot as plt\n",
    "img1=cv2.imread('cat.jfif')\n",
    "img2=cv2.imread('tiger.jfif')\n",
    "\n",
    "bitand=cv2.bitwise_and(img1,img2)\n",
    "bitor=cv2.bitwise_or(img1,img2)\n",
    "bitnot=cv2.bitwise_not(img1,img2)\n",
    "\n",
    "cv2.imshow(\"Bitwise and\",bitand)\n",
    "cv2.imshow(\"Bitwise or\",bitor)\n",
    "cv2.imshow(\"Bitwise not\",bitnot)\n",
    "\n",
    "cv2.waitKey(0)\n",
    "cv2.destroyAllWindows()"
   ]
  },
  {
   "cell_type": "code",
   "execution_count": 1,
   "id": "39153cf1",
   "metadata": {},
   "outputs": [],
   "source": [
    "#median filtering\n",
    "import cv2\n",
    "import numpy as np\n",
    "\n",
    "img=cv2.imread('noise.jfif',0)\n",
    "m,n=img.shape\n",
    "new_img=np.zeros([m,n])\n",
    "for i in range(1,m-1):\n",
    " for j in range(1,n-1):\n",
    "    temp=[img[i-1,j-1],\n",
    "         img[i-1,j],\n",
    "         img[i-1,j+1],\n",
    "         img[i,j-1],\n",
    "         img[i,j],\n",
    "         img[i,j+1],\n",
    "         img[i+1,j-1],\n",
    "         img[i+1,j],\n",
    "        img[i+1,j+1]]\n",
    "    temp=sorted(temp)\n",
    "    new_img[i,j]=temp[4]       \n",
    "new_img=new_img.astype(np.uint8)\n",
    "cv2.imshow('Median filtered image',new_img)\n",
    "cv2.waitKey(0)\n",
    "cv2.destroyAllWindows()"
   ]
  },
  {
   "cell_type": "code",
   "execution_count": 3,
   "id": "df4d7a15",
   "metadata": {},
   "outputs": [],
   "source": [
    "#average filtering\n",
    "import cv2\n",
    "import numpy as np\n",
    "img=cv2.imread('Moon.jpg',0)\n",
    "m,n=img.shape\n",
    "mask=np.ones([3,3],dtype=int)\n",
    "mask=mask/9\n",
    "\n",
    "img_new=np.zeros([m,n])\n",
    "for i in range(1,m-1):\n",
    "    for j in range(1,n-1):\n",
    "        temp=img[i-1,j-1]*mask[0,0]+img[i-1,j]*mask[0,1]+img[i-1,j+1]*mask[0,2]+img[i,j-1]*mask[1,0]+img[i,j]*mask[1,1]+img[i,j+1]*mask[1,2]+img[i+1,j-1]*mask[2,0]+img[i+1,j]*mask[2,1]+img[i+1,j+1]*mask[2,2]\n",
    "        img_new[i,j]=temp\n",
    "img_new=img_new.astype(np.uint8)\n",
    "cv2.imshow('Blurred image',img_new)\n",
    "cv2.waitKey(0)\n",
    "cv2.destroyAllWindows()"
   ]
  },
  {
   "cell_type": "code",
   "execution_count": 5,
   "id": "8ef1c0e0",
   "metadata": {},
   "outputs": [],
   "source": [
    "from PIL import Image,ImageDraw,ImageFilter\n",
    "im1=Image.open('bg image.png')\n",
    "im2=Image.open('foreground.jfif')\n",
    "mask_im=Image.new(\"L\",im2.size,0)\n",
    "draw=ImageDraw.Draw(mask_im)\n",
    "draw.ellipse((20,50,400,300),fill=250)\n",
    "mask_im_blur=mask_im.filter(ImageFilter.GaussianBlur(10))\n",
    "back_im=im1.copy()\n",
    "back_im.paste(im2,(0,0),mask_im_blur)\n",
    "back_im.show()"
   ]
  },
  {
   "cell_type": "code",
   "execution_count": null,
   "id": "7e6bd708",
   "metadata": {},
   "outputs": [],
   "source": []
  },
  {
   "cell_type": "code",
   "execution_count": null,
   "id": "43ccd787",
   "metadata": {},
   "outputs": [],
   "source": []
  }
 ],
 "metadata": {
  "kernelspec": {
   "display_name": "Python 3 (ipykernel)",
   "language": "python",
   "name": "python3"
  },
  "language_info": {
   "codemirror_mode": {
    "name": "ipython",
    "version": 3
   },
   "file_extension": ".py",
   "mimetype": "text/x-python",
   "name": "python",
   "nbconvert_exporter": "python",
   "pygments_lexer": "ipython3",
   "version": "3.9.12"
  }
 },
 "nbformat": 4,
 "nbformat_minor": 5
}
