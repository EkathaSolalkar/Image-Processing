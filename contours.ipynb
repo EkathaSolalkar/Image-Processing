{
 "cells": [
  {
   "cell_type": "code",
   "execution_count": 10,
   "id": "45d71941",
   "metadata": {},
   "outputs": [
    {
     "name": "stdout",
     "output_type": "stream",
     "text": [
      "Number of Contours found = 138\n"
     ]
    }
   ],
   "source": [
    "#contours\n",
    "import cv2\n",
    "import numpy as np\n",
    "\n",
    "image = cv2.imread('tiger.jfif')\n",
    "cv2.waitKey(0)\n",
    "\n",
    "gray = cv2.cvtColor(image, cv2.COLOR_BGR2GRAY)\n",
    "edged = cv2.Canny(gray, 30, 200)\n",
    "cv2.waitKey(0)\n",
    "\n",
    "contours, hierarchy = cv2.findContours(edged,\n",
    "\tcv2.RETR_EXTERNAL, cv2.CHAIN_APPROX_NONE)\n",
    "\n",
    "cv2.imshow('Canny Edges After Contouring', edged)\n",
    "cv2.waitKey(0)\n",
    "\n",
    "print(\"Number of Contours found = \" + str(len(contours)))\n",
    "cv2.drawContours(image, contours, -1, (0, 255, 0), 3)\n",
    "cv2.imshow('Contours', image)\n",
    "cv2.waitKey(0)\n",
    "cv2.destroyAllWindows()"
   ]
  },
  {
   "cell_type": "code",
   "execution_count": 1,
   "id": "3d4c0f85",
   "metadata": {},
   "outputs": [
    {
     "name": "stdout",
     "output_type": "stream",
     "text": [
      "(183, 275, 3)\n",
      "(366, 550, 3)\n"
     ]
    },
    {
     "name": "stderr",
     "output_type": "stream",
     "text": [
      "C:\\Users\\User\\AppData\\Local\\Temp\\ipykernel_9456\\3524741488.py:9: FutureWarning: `multichannel` is a deprecated argument name for `montage`. It will be removed in version 1.0. Please use `channel_axis` instead.\n",
      "  m = skimage.util.montage([a, b, c, d], multichannel=True)\n"
     ]
    }
   ],
   "source": [
    "#montage \n",
    "import skimage.io\n",
    "import skimage.util\n",
    "a = skimage.io.imread('nature.jfif')\n",
    "print(a.shape)\n",
    "b = a // 2\n",
    "c = a // 3\n",
    "d = a // 4\n",
    "m = skimage.util.montage([a, b, c, d], multichannel=True)\n",
    "print(m.shape)\n",
    "skimage.io.imsave('C:/Users/User/Desktop/mont.jpg', m)"
   ]
  },
  {
   "cell_type": "code",
   "execution_count": null,
   "id": "5fcf1c1e",
   "metadata": {},
   "outputs": [],
   "source": [
    "#canvas \n",
    "import numpy as np\n",
    "import matplotlib.pyplot as plt\n",
    "import cv2\n",
    "canvas=np.ones((600,600,3))\n",
    "plt.imshow(canvas)\n",
    "\n",
    "cv2.imread()"
   ]
  }
 ],
 "metadata": {
  "kernelspec": {
   "display_name": "Python 3 (ipykernel)",
   "language": "python",
   "name": "python3"
  },
  "language_info": {
   "codemirror_mode": {
    "name": "ipython",
    "version": 3
   },
   "file_extension": ".py",
   "mimetype": "text/x-python",
   "name": "python",
   "nbconvert_exporter": "python",
   "pygments_lexer": "ipython3",
   "version": "3.9.12"
  }
 },
 "nbformat": 4,
 "nbformat_minor": 5
}
