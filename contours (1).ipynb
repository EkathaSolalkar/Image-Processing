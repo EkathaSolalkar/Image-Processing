{
 "cells": [
  {
   "cell_type": "code",
   "execution_count": 10,
   "id": "45d71941",
   "metadata": {},
   "outputs": [
    {
     "name": "stdout",
     "output_type": "stream",
     "text": [
      "Number of Contours found = 138\n"
     ]
    }
   ],
   "source": [
    "#contours\n",
    "import cv2\n",
    "import numpy as np\n",
    "\n",
    "image = cv2.imread('tiger.jfif')\n",
    "cv2.waitKey(0)\n",
    "\n",
    "gray = cv2.cvtColor(image, cv2.COLOR_BGR2GRAY)\n",
    "edged = cv2.Canny(gray, 30, 200)\n",
    "cv2.waitKey(0)\n",
    "\n",
    "contours, hierarchy = cv2.findContours(edged,\n",
    "\tcv2.RETR_EXTERNAL, cv2.CHAIN_APPROX_NONE)\n",
    "\n",
    "cv2.imshow('Canny Edges After Contouring', edged)\n",
    "cv2.waitKey(0)\n",
    "\n",
    "print(\"Number of Contours found = \" + str(len(contours)))\n",
    "cv2.drawContours(image, contours, -1, (0, 255, 0), 3)\n",
    "cv2.imshow('Contours', image)\n",
    "cv2.waitKey(0)\n",
    "cv2.destroyAllWindows()"
   ]
  },
  {
   "cell_type": "code",
   "execution_count": 1,
   "id": "3d4c0f85",
   "metadata": {},
   "outputs": [
    {
     "name": "stdout",
     "output_type": "stream",
     "text": [
      "(183, 275, 3)\n",
      "(366, 550, 3)\n"
     ]
    },
    {
     "name": "stderr",
     "output_type": "stream",
     "text": [
      "C:\\Users\\User\\AppData\\Local\\Temp\\ipykernel_9456\\3524741488.py:9: FutureWarning: `multichannel` is a deprecated argument name for `montage`. It will be removed in version 1.0. Please use `channel_axis` instead.\n",
      "  m = skimage.util.montage([a, b, c, d], multichannel=True)\n"
     ]
    }
   ],
   "source": [
    "#montage - method 1\n",
    "import skimage.io\n",
    "import skimage.util\n",
    "a = skimage.io.imread('nature.jfif')\n",
    "print(a.shape)\n",
    "b = a // 2\n",
    "c = a // 3\n",
    "d = a // 4\n",
    "m = skimage.util.montage([a, b, c, d], multichannel=True)\n",
    "print(m.shape)\n",
    "skimage.io.imsave('C:/Users/User/Desktop/mont.jpg', m)"
   ]
  },
  {
   "cell_type": "code",
   "execution_count": 4,
   "id": "7eaeba40",
   "metadata": {},
   "outputs": [
    {
     "data": {
      "text/plain": [
       "'montage.png'"
      ]
     },
     "execution_count": 4,
     "metadata": {},
     "output_type": "execute_result"
    }
   ],
   "source": [
    "#montage - method 2\n",
    "import cv2\n",
    "from PIL import Image\n",
    "from skimage import io\n",
    "\n",
    "\n",
    "IMAGE_WIDTH = 400\n",
    "IMAGE_HEIGHT = 400\n",
    "\n",
    "def create_collage(images):\n",
    "    images = [io.imread(img) for img in images]\n",
    "    images = [cv2.resize(image, (IMAGE_WIDTH, IMAGE_HEIGHT)) for image in images]\n",
    "    if len(images) > 2:\n",
    "        half = len(images) // 2\n",
    "        h1 = cv2.hconcat(images[:half])\n",
    "        h2 = cv2.hconcat(images[half:])\n",
    "        concat_images = cv2.vconcat([h1, h2])\n",
    "    else:\n",
    "        concat_images = cv2.hconcat(images)\n",
    "    image = Image.fromarray(concat_images)\n",
    "\n",
    "    # Image path\n",
    "    image_name = \"montage.png\"\n",
    "    image = image.convert(\"RGB\")\n",
    "    image.save(f\"{image_name}\")\n",
    "    return image_name\n",
    "images=[\"1img.jpg\",\"Moon.jpg\",\"unnamed.jpg\",\"nature.jpg\"]\n",
    "#image1 on top left, image2 on top right, image3 on bottom left,image4 on bottom right\n",
    "create_collage(images)"
   ]
  },
  {
   "cell_type": "code",
   "execution_count": 5,
   "id": "c63be2e8",
   "metadata": {},
   "outputs": [],
   "source": [
    "#collage (montage)\n",
    "import cv2\n",
    "import numpy as np\n",
    "\n",
    "image1=cv2.imread(\"1img.jpg\")\n",
    "image2=cv2.imread(\"Moon.jpg\")\n",
    "image3=cv2.imread(\"unnamed.jpg\")\n",
    "image4=cv2.imread(\"nature.jpg\")\n",
    "\n",
    "image1=cv2.resize(image1,(200,200))\n",
    "image2=cv2.resize(image2,(200,200))\n",
    "image3=cv2.resize(image3,(200,200))\n",
    "image4=cv2.resize(image4,(200,200))\n",
    "\n",
    "Horizontal1=np.hstack([image1,image2])\n",
    "Horizontal2=np.hstack([image3,image4])\n",
    "Vertical_attachment=np.vstack([Horizontal1,Horizontal2])\n",
    "cv2.imshow(\"Final Collage\",Vertical_attachment)\n",
    "cv2.waitKey(0)\n",
    "cv2.destroyAllWindows()"
   ]
  },
  {
   "cell_type": "code",
   "execution_count": null,
   "id": "5fcf1c1e",
   "metadata": {},
   "outputs": [],
   "source": [
    "#canvas \n",
    "import numpy as np\n",
    "import matplotlib.pyplot as plt\n",
    "import cv2\n",
    "canvas=np.ones((600,600,3))\n",
    "plt.imshow(canvas)\n",
    "\n",
    "cv2.imread()"
   ]
  },
  {
   "cell_type": "code",
   "execution_count": 6,
   "id": "4634baf3",
   "metadata": {},
   "outputs": [],
   "source": [
    "#removing watermark\n",
    "import cv2\n",
    "import numpy as np\n",
    "\n",
    "img = cv2.imread(\"Watermarks.png\")\n",
    "alpha = 2.0\n",
    "beta = -160\n",
    "new = alpha * img + beta\n",
    "new = np.clip(new, 0, 255).astype(np.uint8)\n",
    "cv2.imshow(\"Removed image\", new)\n",
    "cv2.waitKey(0)\n",
    "cv2.destroyAllWindows()"
   ]
  },
  {
   "cell_type": "code",
   "execution_count": null,
   "id": "6eba5b4c",
   "metadata": {},
   "outputs": [],
   "source": []
  }
 ],
 "metadata": {
  "kernelspec": {
   "display_name": "Python 3 (ipykernel)",
   "language": "python",
   "name": "python3"
  },
  "language_info": {
   "codemirror_mode": {
    "name": "ipython",
    "version": 3
   },
   "file_extension": ".py",
   "mimetype": "text/x-python",
   "name": "python",
   "nbconvert_exporter": "python",
   "pygments_lexer": "ipython3",
   "version": "3.9.12"
  }
 },
 "nbformat": 4,
 "nbformat_minor": 5
}
