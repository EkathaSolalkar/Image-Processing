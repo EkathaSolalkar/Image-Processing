{
 "cells": [
  {
   "cell_type": "code",
   "execution_count": 1,
   "id": "407f28fd",
   "metadata": {},
   "outputs": [],
   "source": [
    "#difference between two images\n",
    "from PIL import Image,ImageChops\n",
    "img1=Image.open(\"1img.jpg\")\n",
    "img2=Image.open(\"2img.jpg\")\n",
    "diff=ImageChops.difference(img1,img2)\n",
    "diff.show()"
   ]
  },
  {
   "cell_type": "code",
   "execution_count": 19,
   "id": "34f738d9",
   "metadata": {},
   "outputs": [
    {
     "name": "stdout",
     "output_type": "stream",
     "text": [
      "ballon.png\n",
      "butterfly.png\n",
      "dog.png\n",
      "flower.png\n",
      "images.png\n"
     ]
    }
   ],
   "source": [
    "#image list only png files\n",
    "import os\n",
    "from os import listdir\n",
    "folder_dir = \"C:/Users/User/Desktop/images\"\n",
    "for images in os.listdir(folder_dir):\n",
    "    if(images.endswith(\".png\")):\n",
    "        print(images)"
   ]
  },
  {
   "cell_type": "code",
   "execution_count": 20,
   "id": "7c65c1b2",
   "metadata": {},
   "outputs": [
    {
     "name": "stdout",
     "output_type": "stream",
     "text": [
      "backlit.webp\n",
      "ballon.png\n",
      "bird.jpg\n",
      "butterfly.png\n",
      "cat.jfif\n",
      "dog.png\n",
      "flower.png\n",
      "foreground.jfif\n",
      "fruit.jpg\n",
      "images.png\n",
      "Moon.jpg\n",
      "star.pdf\n"
     ]
    }
   ],
   "source": [
    "#image list of all images\n",
    "import os\n",
    "from os import listdir\n",
    "folder_dir = \"C:/Users/User/Desktop/images\"\n",
    "for images in os.listdir(folder_dir):\n",
    "    if(images.endswith(\"\")):\n",
    "        print(images)"
   ]
  },
  {
   "cell_type": "code",
   "execution_count": 21,
   "id": "1b271165",
   "metadata": {},
   "outputs": [
    {
     "name": "stdout",
     "output_type": "stream",
     "text": [
      "Note: you may need to restart the kernel to use updated packages.\n"
     ]
    },
    {
     "name": "stderr",
     "output_type": "stream",
     "text": [
      "ERROR: Could not find a version that satisfies the requirement glob (from versions: none)\n",
      "ERROR: No matching distribution found for glob\n"
     ]
    }
   ],
   "source": [
    "pip install glob"
   ]
  },
  {
   "cell_type": "code",
   "execution_count": 2,
   "id": "5cd58c67",
   "metadata": {},
   "outputs": [
    {
     "ename": "SyntaxError",
     "evalue": "not a PNG file (<string>)",
     "output_type": "error",
     "traceback": [
      "Traceback \u001b[1;36m(most recent call last)\u001b[0m:\n",
      "  File \u001b[0;32m~\\anaconda3\\lib\\site-packages\\IPython\\core\\interactiveshell.py:3369\u001b[0m in \u001b[0;35mrun_code\u001b[0m\n    exec(code_obj, self.user_global_ns, self.user_ns)\n",
      "  Input \u001b[0;32mIn [2]\u001b[0m in \u001b[0;35m<cell line: 7>\u001b[0m\n    images.append(mpimg.imread(img_path))\n",
      "  File \u001b[0;32m~\\anaconda3\\lib\\site-packages\\matplotlib\\image.py:1560\u001b[0m in \u001b[0;35mimread\u001b[0m\n    with img_open(fname) as image:\n",
      "  File \u001b[0;32m~\\anaconda3\\lib\\site-packages\\PIL\\ImageFile.py:112\u001b[0m in \u001b[0;35m__init__\u001b[0m\n    self._open()\n",
      "\u001b[1;36m  File \u001b[1;32m~\\anaconda3\\lib\\site-packages\\PIL\\PngImagePlugin.py:676\u001b[1;36m in \u001b[1;35m_open\u001b[1;36m\u001b[0m\n\u001b[1;33m    raise SyntaxError(\"not a PNG file\")\u001b[0m\n",
      "\u001b[1;36m  File \u001b[1;32m<string>\u001b[1;36m\u001b[0m\n\u001b[1;31mSyntaxError\u001b[0m\u001b[1;31m:\u001b[0m not a PNG file\n"
     ]
    }
   ],
   "source": [
    "import glob\n",
    "import matplotlib.pyplot as plt\n",
    "import matplotlib.image as mpimg\n",
    "%matplotlib inline\n",
    "\n",
    "images = []\n",
    "for img_path in glob.glob('C:/Users/User/Desktop/images/*'):\n",
    "    images.append(mpimg.imread(img_path))\n",
    "    \n",
    "plt.figure(figsize=(20,10))\n",
    "columns=5\n",
    "for i, image in enumerate(images):\n",
    "    plt.subplot(len(images)/columns+1,columns,i+1)\n",
    "    plt.imshow(image)\n",
    "    plt.xticks([])\n",
    "    plt.yticks([])"
   ]
  },
  {
   "cell_type": "code",
   "execution_count": null,
   "id": "059f2104",
   "metadata": {},
   "outputs": [],
   "source": []
  },
  {
   "cell_type": "code",
   "execution_count": null,
   "id": "2f22ca93",
   "metadata": {},
   "outputs": [],
   "source": []
  }
 ],
 "metadata": {
  "kernelspec": {
   "display_name": "Python 3 (ipykernel)",
   "language": "python",
   "name": "python3"
  },
  "language_info": {
   "codemirror_mode": {
    "name": "ipython",
    "version": 3
   },
   "file_extension": ".py",
   "mimetype": "text/x-python",
   "name": "python",
   "nbconvert_exporter": "python",
   "pygments_lexer": "ipython3",
   "version": "3.9.12"
  }
 },
 "nbformat": 4,
 "nbformat_minor": 5
}
