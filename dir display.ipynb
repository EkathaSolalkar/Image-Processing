{
 "cells": [
  {
   "cell_type": "code",
   "execution_count": 4,
   "id": "a901e1cc",
   "metadata": {},
   "outputs": [
    {
     "data": {
      "text/plain": [
       "'C:\\\\Users\\\\HP\\\\Image Processing'"
      ]
     },
     "execution_count": 4,
     "metadata": {},
     "output_type": "execute_result"
    }
   ],
   "source": [
    "from PIL import Image\n",
    "import os \n",
    "os.getcwd()"
   ]
  },
  {
   "cell_type": "code",
   "execution_count": 5,
   "id": "28ea05c2",
   "metadata": {},
   "outputs": [
    {
     "data": {
      "text/plain": [
       "['.ipynb_checkpoints',\n",
       " '11.png',\n",
       " '2.jpg',\n",
       " '22.jpg',\n",
       " '3.png',\n",
       " '4.jpg',\n",
       " '44.jpg',\n",
       " '5.png',\n",
       " 'bg.jpg',\n",
       " 'bg1.jpg',\n",
       " 'bluebut.png',\n",
       " 'cat.jpg',\n",
       " 'dice.png',\n",
       " 'dir display.ipynb',\n",
       " 'fruit.png',\n",
       " 'moon.png',\n",
       " 'nature.jpg',\n",
       " 'panda.png',\n",
       " 'star.png',\n",
       " 'whiteflwrs.jpg']"
      ]
     },
     "execution_count": 5,
     "metadata": {},
     "output_type": "execute_result"
    }
   ],
   "source": [
    "os.listdir()"
   ]
  },
  {
   "cell_type": "code",
   "execution_count": 6,
   "id": "f9d2632a",
   "metadata": {},
   "outputs": [
    {
     "name": "stdout",
     "output_type": "stream",
     "text": [
      "2 & .jpg\n",
      "22 & .jpg\n",
      "4 & .jpg\n",
      "44 & .jpg\n",
      "bg & .jpg\n",
      "bg1 & .jpg\n",
      "cat & .jpg\n",
      "nature & .jpg\n",
      "whiteflwrs & .jpg\n"
     ]
    }
   ],
   "source": [
    "#separate the name and extension of the files\n",
    "for f in os.listdir(\".\"):\n",
    "    if f.endswith(\".jpg\"):\n",
    "        i = Image.open(f)\n",
    "        fn, fext = os.path.splitext(f)\n",
    "        print(fn, \"&\", fext)"
   ]
  },
  {
   "cell_type": "code",
   "execution_count": 7,
   "id": "96f2b1dc",
   "metadata": {},
   "outputs": [
    {
     "name": "stdout",
     "output_type": "stream",
     "text": [
      "2.jpg\n",
      "22.jpg\n",
      "4.jpg\n",
      "44.jpg\n",
      "bg.jpg\n",
      "bg1.jpg\n",
      "cat.jpg\n",
      "nature.jpg\n",
      "whiteflwrs.jpg\n"
     ]
    }
   ],
   "source": [
    "#Looping over the image files\n",
    "for f in os.listdir(\".\"):\n",
    "    if f.endswith(\".jpg\"):\n",
    "        print(f)"
   ]
  },
  {
   "cell_type": "code",
   "execution_count": 8,
   "id": "867a9548",
   "metadata": {},
   "outputs": [],
   "source": [
    "# Creating new Directory using OS library\n",
    "os.mkdir('NewExtnsn')"
   ]
  },
  {
   "cell_type": "code",
   "execution_count": 9,
   "id": "317a1895",
   "metadata": {},
   "outputs": [],
   "source": [
    "for f in os.listdir(\".\"):\n",
    "    if f.endswith(\".jpg\"):\n",
    "        i = Image.open(f)\n",
    "        fn, fext = os.path.splitext(f)\n",
    "        i.save(\"NewExtnsn/{}.pdf\".format(fn))"
   ]
  },
  {
   "cell_type": "code",
   "execution_count": 10,
   "id": "87791b3e",
   "metadata": {},
   "outputs": [],
   "source": [
    "# Creating new multiple Directories using OS library\n",
    "os.makedirs('resize//small')\n",
    "os.makedirs('resize//tiny')"
   ]
  },
  {
   "cell_type": "code",
   "execution_count": 11,
   "id": "5232749d",
   "metadata": {},
   "outputs": [],
   "source": [
    "size_small = (600,600) # small images of 600 X 600 pixels\n",
    "size_tiny = (200,200)  # tiny images of 200 X 200 pixels\n",
    "for f in os.listdir(\".\"):\n",
    "    if f.endswith(\".jpg\"):\n",
    "        i = Image.open(f)\n",
    "        fn, fext = os.path.splitext(f)\n",
    "        i.thumbnail(size_small)\n",
    "        i.save(\"resize/small/{}_small{}\".format(fn, fext))\n",
    "        i.thumbnail(size_tiny)\n",
    "        i.save(\"resize/tiny/{}_tiny{}\".format(fn, fext))"
   ]
  },
  {
   "cell_type": "code",
   "execution_count": 12,
   "id": "0249d247",
   "metadata": {},
   "outputs": [],
   "source": [
    "# Creating new Directory using OS library\n",
    "os.mkdir('rotate')"
   ]
  },
  {
   "cell_type": "code",
   "execution_count": 13,
   "id": "c73302e1",
   "metadata": {},
   "outputs": [],
   "source": [
    "for f in os.listdir(\".\"):\n",
    "    if f.endswith(\".jpg\"):\n",
    "        i = Image.open(f)\n",
    "        fn, fext = os.path.splitext(f)\n",
    "        im = i.rotate(90)\n",
    "        im.save(\"rotate/{}_rot.{}\".format(fn, fext))"
   ]
  },
  {
   "cell_type": "code",
   "execution_count": 21,
   "id": "c6753107",
   "metadata": {},
   "outputs": [
    {
     "data": {
      "text/plain": [
       "'C:/Users/HP/Image Processing/'"
      ]
     },
     "execution_count": 21,
     "metadata": {},
     "output_type": "execute_result"
    }
   ],
   "source": [
    "#Displaying new created directories and files within \n",
    "fold_dir='C:/Users/HP/Image Processing/'\n",
    "fold_dir"
   ]
  },
  {
   "cell_type": "code",
   "execution_count": 22,
   "id": "9e11d06a",
   "metadata": {},
   "outputs": [
    {
     "data": {
      "text/plain": [
       "['.ipynb_checkpoints',\n",
       " '11.png',\n",
       " '2.jpg',\n",
       " '22.jpg',\n",
       " '3.png',\n",
       " '4.jpg',\n",
       " '44.jpg',\n",
       " '5.png',\n",
       " 'bg.jpg',\n",
       " 'bg1.jpg',\n",
       " 'bluebut.png',\n",
       " 'cat.jpg',\n",
       " 'dice.png',\n",
       " 'dir display.ipynb',\n",
       " 'fruit.png',\n",
       " 'moon.png',\n",
       " 'nature.jpg',\n",
       " 'NewExtnsn',\n",
       " 'panda.png',\n",
       " 'resize',\n",
       " 'rotate',\n",
       " 'star.png',\n",
       " 'whiteflwrs.jpg']"
      ]
     },
     "execution_count": 22,
     "metadata": {},
     "output_type": "execute_result"
    }
   ],
   "source": [
    "os.listdir(fold_dir)"
   ]
  },
  {
   "cell_type": "code",
   "execution_count": 24,
   "id": "79330d45",
   "metadata": {},
   "outputs": [
    {
     "data": {
      "text/plain": [
       "['small', 'tiny']"
      ]
     },
     "execution_count": 24,
     "metadata": {},
     "output_type": "execute_result"
    }
   ],
   "source": [
    "fold_dir1='C:/Users/HP/Image Processing/resize'\n",
    "os.listdir(fold_dir1)"
   ]
  },
  {
   "cell_type": "code",
   "execution_count": 28,
   "id": "d03e8fbd",
   "metadata": {},
   "outputs": [
    {
     "data": {
      "text/plain": [
       "['22_small.jpg',\n",
       " '2_small.jpg',\n",
       " '44_small.jpg',\n",
       " '4_small.jpg',\n",
       " 'bg1_small.jpg',\n",
       " 'bg_small.jpg',\n",
       " 'cat_small.jpg',\n",
       " 'nature_small.jpg',\n",
       " 'whiteflwrs_small.jpg']"
      ]
     },
     "execution_count": 28,
     "metadata": {},
     "output_type": "execute_result"
    }
   ],
   "source": [
    "small_fold='C:/Users/HP/Image Processing/resize/small'\n",
    "os.listdir(small_fold)"
   ]
  },
  {
   "cell_type": "code",
   "execution_count": 29,
   "id": "03aba2e3",
   "metadata": {},
   "outputs": [
    {
     "data": {
      "text/plain": [
       "['22_tiny.jpg',\n",
       " '2_tiny.jpg',\n",
       " '44_tiny.jpg',\n",
       " '4_tiny.jpg',\n",
       " 'bg1_tiny.jpg',\n",
       " 'bg_tiny.jpg',\n",
       " 'cat_tiny.jpg',\n",
       " 'nature_tiny.jpg',\n",
       " 'whiteflwrs_tiny.jpg']"
      ]
     },
     "execution_count": 29,
     "metadata": {},
     "output_type": "execute_result"
    }
   ],
   "source": [
    "tiny_fold='C:/Users/HP/Image Processing/resize/tiny'\n",
    "os.listdir(tiny_fold)"
   ]
  },
  {
   "cell_type": "code",
   "execution_count": 25,
   "id": "516e0a15",
   "metadata": {},
   "outputs": [
    {
     "data": {
      "text/plain": [
       "['22_rot..jpg',\n",
       " '2_rot..jpg',\n",
       " '44_rot..jpg',\n",
       " '4_rot..jpg',\n",
       " 'bg1_rot..jpg',\n",
       " 'bg_rot..jpg',\n",
       " 'cat_rot..jpg',\n",
       " 'nature_rot..jpg',\n",
       " 'whiteflwrs_rot..jpg']"
      ]
     },
     "execution_count": 25,
     "metadata": {},
     "output_type": "execute_result"
    }
   ],
   "source": [
    "fold_dir2='C:/Users/HP/Image Processing/rotate'\n",
    "os.listdir(fold_dir2)"
   ]
  },
  {
   "cell_type": "code",
   "execution_count": 26,
   "id": "1de1bb40",
   "metadata": {},
   "outputs": [
    {
     "data": {
      "text/plain": [
       "['2.pdf',\n",
       " '22.pdf',\n",
       " '4.pdf',\n",
       " '44.pdf',\n",
       " 'bg.pdf',\n",
       " 'bg1.pdf',\n",
       " 'cat.pdf',\n",
       " 'nature.pdf',\n",
       " 'whiteflwrs.pdf']"
      ]
     },
     "execution_count": 26,
     "metadata": {},
     "output_type": "execute_result"
    }
   ],
   "source": [
    "fold_dir3='C:/Users/HP/Image Processing/NewExtnsn'\n",
    "os.listdir(fold_dir3)"
   ]
  },
  {
   "cell_type": "code",
   "execution_count": null,
   "id": "e0a6b0c7",
   "metadata": {},
   "outputs": [],
   "source": []
  }
 ],
 "metadata": {
  "kernelspec": {
   "display_name": "Python 3 (ipykernel)",
   "language": "python",
   "name": "python3"
  },
  "language_info": {
   "codemirror_mode": {
    "name": "ipython",
    "version": 3
   },
   "file_extension": ".py",
   "mimetype": "text/x-python",
   "name": "python",
   "nbconvert_exporter": "python",
   "pygments_lexer": "ipython3",
   "version": "3.9.12"
  }
 },
 "nbformat": 4,
 "nbformat_minor": 5
}
