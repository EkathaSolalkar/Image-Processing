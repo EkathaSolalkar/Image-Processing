{
 "cells": [
  {
   "cell_type": "code",
   "execution_count": 4,
   "id": "569aaf5b",
   "metadata": {},
   "outputs": [],
   "source": [
    "#restore damaged image\n",
    "import numpy as np\n",
    "import cv2\n",
    "\n",
    "img = cv2.imread('cat_damaged.png')\n",
    "\n",
    "mask = cv2.imread('cat_mask.png', 0)\n",
    "\n",
    "dst = cv2.inpaint(img, mask, 3, cv2.INPAINT_NS)\n",
    "\n",
    "cv2.imwrite('cat_inpainted.png', dst)"
   ]
  },
  {
   "cell_type": "code",
   "execution_count": 3,
   "id": "2ba34af3",
   "metadata": {},
   "outputs": [],
   "source": [
    "#removing object\n",
    "from PIL import Image\n",
    "import numpy as np\t\n",
    "\n",
    "img = Image.open('website.jfif').convert('RGB')\n",
    "img_arr = np.array(img)\n",
    "img_arr[0 : 400, 0 : 400] = (0, 0, 0)\n",
    "img = Image.fromarray(img_arr)\n",
    "img.show()"
   ]
  },
  {
   "cell_type": "code",
   "execution_count": 6,
   "id": "c1661734",
   "metadata": {},
   "outputs": [],
   "source": [
    "#removing logo\n"
   ]
  },
  {
   "cell_type": "code",
   "execution_count": 2,
   "id": "3ca433ec",
   "metadata": {},
   "outputs": [],
   "source": [
    "#restoration\n",
    "import cv2\n",
    "import numpy as np\n",
    "from skimage import io     \n",
    "\n",
    "frame = cv2.cvtColor(io.imread('crop.png'), cv2.COLOR_RGB2BGR)\n",
    "image = cv2.cvtColor(io.imread('nature.jpg'), cv2.COLOR_RGB2BGR)\n",
    "mask = 255 * np.uint8(np.all(frame == [36, 28, 237], axis=2))\n",
    "contours, _ = cv2.findContours(mask, cv2.RETR_LIST, cv2.CHAIN_APPROX_SIMPLE)\n",
    "cnt = min(contours, key=cv2.contourArea)\n",
    "(x, y, w, h) = cv2.boundingRect(cnt)\n",
    "frame[y:y+h, x:x+w] = cv2.resize(image, (w, h))\n",
    "cv2.imshow('frame', frame)\n",
    "cv2.waitKey(0)\n",
    "cv2.destroyAllWindows()"
   ]
  },
  {
   "cell_type": "code",
   "execution_count": 2,
   "id": "0c3249df",
   "metadata": {},
   "outputs": [
    {
     "name": "stdout",
     "output_type": "stream",
     "text": [
      "(1536, 2048, 3)\n",
      "(1536, 2048, 3)\n"
     ]
    }
   ],
   "source": [
    "#removing text - not proper output\n",
    "import numpy as np\n",
    "import cv2 \n",
    "img = cv2.imread('original_image.jpg')\n",
    "\n",
    "print(img.shape)\n",
    "h,w,c =  img.shape\n",
    "txt = cv2.imread(\"cropped_image.jpg\")\n",
    "print(txt.shape)\n",
    "hl,wl,cl  =  txt.shape\n",
    "\n",
    "x1 = int(w/2-wl/2)\n",
    "y1 = int(h/2-hl)\n",
    "x2 = int(w/2+wl/2)\n",
    "y2 =  int(h/2)\n",
    "cv2.rectangle(img, (x1, y1), (x2, y2), (255,0,0), 2)\n",
    "\n",
    "cv2.imwrite(\"ReomveText.jpg\",img)\n",
    "cv2.imshow(\"textremove\", img)\n",
    "cv2.waitKey(0)\n",
    "cv2.destroyAllWindows()"
   ]
  },
  {
   "cell_type": "code",
   "execution_count": null,
   "id": "994cb167",
   "metadata": {},
   "outputs": [],
   "source": []
  }
 ],
 "metadata": {
  "kernelspec": {
   "display_name": "Python 3 (ipykernel)",
   "language": "python",
   "name": "python3"
  },
  "language_info": {
   "codemirror_mode": {
    "name": "ipython",
    "version": 3
   },
   "file_extension": ".py",
   "mimetype": "text/x-python",
   "name": "python",
   "nbconvert_exporter": "python",
   "pygments_lexer": "ipython3",
   "version": "3.9.12"
  }
 },
 "nbformat": 4,
 "nbformat_minor": 5
}
