{
 "cells": [
  {
   "cell_type": "code",
   "execution_count": 3,
   "id": "f8002265",
   "metadata": {},
   "outputs": [],
   "source": [
    "import cv2\n",
    "image=cv2.imread('website.jpg',0)\n",
    "cv2.imshow('Display Image',image)\n",
    "cv2.waitKey(0)\n",
    "cv2.destroyAllWindows()"
   ]
  },
  {
   "cell_type": "code",
   "execution_count": 4,
   "id": "2b1115d3",
   "metadata": {},
   "outputs": [
    {
     "data": {
      "text/plain": [
       "True"
      ]
     },
     "execution_count": 4,
     "metadata": {},
     "output_type": "execute_result"
    }
   ],
   "source": [
    "cv2.imwrite('C:/Users/User/Desktop/image1.jpg',image)"
   ]
  },
  {
   "cell_type": "code",
   "execution_count": 5,
   "id": "4d44b371",
   "metadata": {},
   "outputs": [
    {
     "name": "stdout",
     "output_type": "stream",
     "text": [
      "The height of the image is : 510\n",
      "The width of the image is : 1020\n"
     ]
    }
   ],
   "source": [
    "from PIL import Image\n",
    "filepath=\"website.jpg\"\n",
    "img=Image.open(filepath)\n",
    "width=img.width\n",
    "height=img.height\n",
    "print('The height of the image is :',height)\n",
    "print('The width of the image is :',width)"
   ]
  },
  {
   "cell_type": "code",
   "execution_count": null,
   "id": "0610400b",
   "metadata": {},
   "outputs": [
    {
     "name": "stdout",
     "output_type": "stream",
     "text": [
      "No of Channel is: 3\n"
     ]
    }
   ],
   "source": [
    "import numpy\n",
    "\n",
    "img = cv2.imread(\"website.jpg\")\n",
    "print('No of Channel is: ' + str(img.ndim))\n",
    "\n",
    "cv2.imshow(\"Channel\", img)\n",
    "cv2.waitKey(0)\n",
    "cv2.destroyAllWindows()"
   ]
  },
  {
   "cell_type": "code",
   "execution_count": 5,
   "id": "3f570d5d",
   "metadata": {},
   "outputs": [
    {
     "data": {
      "image/png": "[encoded data removed]",
      "text/plain": [
       "<PIL.Image.Image image mode=RGB size=75x75 at 0x24728FEA970>"
      ]
     },
     "execution_count": 5,
     "metadata": {},
     "output_type": "execute_result"
    }
   ],
   "source": [
    "from PIL import Image\n",
    "filepath=\"website.jpg\"\n",
    "img=Image.open(filepath)\n",
    "new=img.resize((75,75))\n",
    "new"
   ]
  },
  {
   "cell_type": "code",
   "execution_count": 9,
   "id": "e0852f9a",
   "metadata": {},
   "outputs": [
    {
     "data": {
      "image/png": "[encoded data removed]",
      "text/plain": [
       "<PIL.Image.Image image mode=RGB size=30x28 at 0x24728FCCF10>"
      ]
     },
     "execution_count": 9,
     "metadata": {},
     "output_type": "execute_result"
    }
   ],
   "source": [
    "from PIL import Image\n",
    "filepath=\"website.jpg\"\n",
    "img=Image.open(filepath)\n",
    "width=30\n",
    "height=28\n",
    "new=img.resize((width,height),Image.ANTIALIAS)\n",
    "new"
   ]
  },
  {
   "cell_type": "code",
   "execution_count": 4,
   "id": "5ad61f0c",
   "metadata": {},
   "outputs": [
    {
     "name": "stdout",
     "output_type": "stream",
     "text": [
      "The Shape of the image is: (510, 1020, 3)\n",
      "The image as array is:\n",
      "[[[158 182 194]\n",
      "  [164 187 201]\n",
      "  [166 190 202]\n",
      "  ...\n",
      "  [ 48  71  27]\n",
      "  [143 165 152]\n",
      "  [163 184 189]]\n",
      "\n",
      " [[159 183 193]\n",
      "  [162 185 199]\n",
      "  [165 188 202]\n",
      "  ...\n",
      "  [ 21  42   9]\n",
      "  [110 131 126]\n",
      "  [161 180 194]]\n",
      "\n",
      " [[161 186 193]\n",
      "  [159 182 196]\n",
      "  [162 185 203]\n",
      "  ...\n",
      "  [ 17  36  14]\n",
      "  [ 85 105 103]\n",
      "  [166 185 199]]\n",
      "\n",
      " ...\n",
      "\n",
      " [[107 135  16]\n",
      "  [ 93 115   7]\n",
      "  [ 93 114   0]\n",
      "  ...\n",
      "  [114 139   9]\n",
      "  [130 153   0]\n",
      "  [138 160   0]]\n",
      "\n",
      " [[100 127  10]\n",
      "  [ 89 109  10]\n",
      "  [ 86 104   0]\n",
      "  ...\n",
      "  [114 137   7]\n",
      "  [126 146   0]\n",
      "  [131 152   0]]\n",
      "\n",
      " [[ 88 115   0]\n",
      "  [ 86 103   9]\n",
      "  [ 79  96   0]\n",
      "  ...\n",
      "  [114 135   4]\n",
      "  [121 140   0]\n",
      "  [123 146   0]]]\n"
     ]
    }
   ],
   "source": [
    "import matplotlib.image as image\n",
    "img=image.imread('website.jpg')\n",
    "print('The Shape of the image is:',img.shape)\n",
    "print('The image as array is:')\n",
    "print(img)"
   ]
  },
  {
   "cell_type": "code",
   "execution_count": 6,
   "id": "f882628c",
   "metadata": {},
   "outputs": [],
   "source": [
    "import cv2\n",
    "img=cv2.imread('website.jpg',2)\n",
    "ret,n_img=cv2.threshold(img,127,255,cv2.THRESH_BINARY)\n",
    "n=cv2.threshold(img,127,255,cv2.THRESH_BINARY)\n",
    "cv2.imshow(\"BINARY\",n_img)\n",
    "cv2.waitKey(0)\n",
    "cv2.destroyAllWindows()"
   ]
  },
  {
   "cell_type": "code",
   "execution_count": 7,
   "id": "7ad8eb67",
   "metadata": {},
   "outputs": [
    {
     "name": "stdout",
     "output_type": "stream",
     "text": [
      "[[194 201 202 ...  27 152 189]\n",
      " [193 199 202 ...   9 126 194]\n",
      " [193 196 203 ...  14 103 199]\n",
      " ...\n",
      " [ 16   7   0 ...   9   0   0]\n",
      " [ 10  10   0 ...   7   0   0]\n",
      " [  0   9   0 ...   4   0   0]]\n",
      "[[182 187 190 ...  71 165 184]\n",
      " [183 185 188 ...  42 131 180]\n",
      " [186 182 185 ...  36 105 185]\n",
      " ...\n",
      " [135 115 114 ... 139 153 160]\n",
      " [127 109 104 ... 137 146 152]\n",
      " [115 103  96 ... 135 140 146]]\n",
      "[[158 164 166 ...  48 143 163]\n",
      " [159 162 165 ...  21 110 161]\n",
      " [161 159 162 ...  17  85 166]\n",
      " ...\n",
      " [107  93  93 ... 114 130 138]\n",
      " [100  89  86 ... 114 126 131]\n",
      " [ 88  86  79 ... 114 121 123]]\n"
     ]
    }
   ],
   "source": [
    "img=cv2.imread('website.jpg')\n",
    "B,G,R=cv2.split(img)\n",
    "print(B)\n",
    "print(G)\n",
    "print(R)"
   ]
  },
  {
   "cell_type": "code",
   "execution_count": 11,
   "id": "225e1e5a",
   "metadata": {},
   "outputs": [],
   "source": [
    "cv2.imshow(\"Blue\",B)\n",
    "cv2.waitKey(0)\n",
    "cv2.destroyAllWindows()"
   ]
  },
  {
   "cell_type": "code",
   "execution_count": 12,
   "id": "292f90f2",
   "metadata": {},
   "outputs": [],
   "source": [
    "cv2.imshow(\"Green\",G)\n",
    "cv2.waitKey(0)\n",
    "cv2.destroyAllWindows()"
   ]
  },
  {
   "cell_type": "code",
   "execution_count": 13,
   "id": "5f997128",
   "metadata": {},
   "outputs": [],
   "source": [
    "cv2.imshow(\"Red\",R)\n",
    "cv2.waitKey(0)\n",
    "cv2.destroyAllWindows()"
   ]
  },
  {
   "cell_type": "code",
   "execution_count": 20,
   "id": "ae44fdc4",
   "metadata": {},
   "outputs": [
    {
     "name": "stdout",
     "output_type": "stream",
     "text": [
      "The height of the image is : 510\n",
      "The width of the image is : 1020\n"
     ]
    },
    {
     "data": {
      "image/png": "[encoded data removed]",
      "text/plain": [
       "<PIL.Image.Image image mode=RGB size=30x28 at 0x2A48D3EB610>"
      ]
     },
     "execution_count": 20,
     "metadata": {},
     "output_type": "execute_result"
    }
   ],
   "source": [
    "import cv2\n",
    "import matplotlib.image as image\n",
    "from PIL import Image\n",
    "filepath=\"website.jpg\"\n",
    "img=Image.open(filepath)\n",
    "width=img.width\n",
    "height=img.height\n",
    "print('The height of the image is :',height)\n",
    "print('The width of the image is :',width)\n",
    "width=30\n",
    "height=28\n",
    "new=img.resize((width,height),Image.ANTIALIAS)\n",
    "new"
   ]
  },
  {
   "cell_type": "code",
   "execution_count": null,
   "id": "3c259b6a",
   "metadata": {},
   "outputs": [],
   "source": []
  }
 ],
 "metadata": {
  "kernelspec": {
   "display_name": "Python 3 (ipykernel)",
   "language": "python",
   "name": "python3"
  },
  "language_info": {
   "codemirror_mode": {
    "name": "ipython",
    "version": 3
   },
   "file_extension": ".py",
   "mimetype": "text/x-python",
   "name": "python",
   "nbconvert_exporter": "python",
   "pygments_lexer": "ipython3",
   "version": "3.9.12"
  }
 },
 "nbformat": 4,
 "nbformat_minor": 5
}
