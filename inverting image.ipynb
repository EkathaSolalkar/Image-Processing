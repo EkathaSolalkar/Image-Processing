{
 "cells": [
  {
   "cell_type": "code",
   "execution_count": 1,
   "id": "57b1e986",
   "metadata": {},
   "outputs": [
    {
     "name": "stdout",
     "output_type": "stream",
     "text": [
      "C:/Users/User/Desktop/IP\\invert_backlit.webp\n",
      "C:/Users/User/Desktop/IP\\invert_ballon.png\n",
      "C:/Users/User/Desktop/IP\\invert_bird.jpg\n",
      "C:/Users/User/Desktop/IP\\invert_butterfly.png\n",
      "C:/Users/User/Desktop/IP\\invert_cat.jfif\n",
      "C:/Users/User/Desktop/IP\\invert_dice.png\n",
      "C:/Users/User/Desktop/IP\\invert_dog.png\n",
      "C:/Users/User/Desktop/IP\\invert_face.jfif\n",
      "C:/Users/User/Desktop/IP\\invert_face.png\n",
      "C:/Users/User/Desktop/IP\\invert_flower.png\n",
      "C:/Users/User/Desktop/IP\\invert_foreground.jfif\n",
      "C:/Users/User/Desktop/IP\\invert_fruit.jpg\n",
      "C:/Users/User/Desktop/IP\\invert_hist.png\n",
      "C:/Users/User/Desktop/IP\\invert_images.png\n",
      "C:/Users/User/Desktop/IP\\invert_logo.jpg\n",
      "C:/Users/User/Desktop/IP\\invert_messi.jpg\n",
      "C:/Users/User/Desktop/IP\\invert_Moon.jpg\n",
      "C:/Users/User/Desktop/IP\\invert_page.jpg\n",
      "C:/Users/User/Desktop/IP\\invert_panda1.jpg\n",
      "C:/Users/User/Desktop/IP\\invert_star.pdf\n"
     ]
    }
   ],
   "source": [
    "#inverting image code\n",
    "from PIL import Image\n",
    "from PIL import ImageFilter\n",
    "import os\n",
    "\n",
    "def main():\n",
    "    inPath =\"C:/Users/User/Desktop/images\"\n",
    "    outPath =\"C:/Users/User/Desktop/IP\"\n",
    "    for imagePath in os.listdir(inPath):\n",
    "        inputPath = os.path.join(inPath, imagePath)\n",
    "        img = Image.open(inputPath)\n",
    "        fullOutPath = os.path.join(outPath, 'invert_'+imagePath)\n",
    "        img.rotate(90).save(fullOutPath)\n",
    "        print(fullOutPath)\n",
    "\n",
    "if __name__ == '__main__':\n",
    "    main()"
   ]
  },
  {
   "cell_type": "code",
   "execution_count": null,
   "id": "5e3dd944",
   "metadata": {},
   "outputs": [],
   "source": []
  }
 ],
 "metadata": {
  "kernelspec": {
   "display_name": "Python 3 (ipykernel)",
   "language": "python",
   "name": "python3"
  },
  "language_info": {
   "codemirror_mode": {
    "name": "ipython",
    "version": 3
   },
   "file_extension": ".py",
   "mimetype": "text/x-python",
   "name": "python",
   "nbconvert_exporter": "python",
   "pygments_lexer": "ipython3",
   "version": "3.9.12"
  }
 },
 "nbformat": 4,
 "nbformat_minor": 5
}
