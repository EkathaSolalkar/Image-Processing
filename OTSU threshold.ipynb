{
 "cells": [
  {
   "cell_type": "code",
   "execution_count": 1,
   "id": "39610cfb",
   "metadata": {},
   "outputs": [
    {
     "data": {
      "text/plain": [
       "-1"
      ]
     },
     "execution_count": 1,
     "metadata": {},
     "output_type": "execute_result"
    }
   ],
   "source": [
    "import cv2 \n",
    "import numpy as np\n",
    "\n",
    "img = cv2.imread('noisy_leaf.jpg', cv2.IMREAD_GRAYSCALE)  \n",
    "cv2.imshow('gray', img)\n",
    "cv2.imwrite('gray1.jpg',img)\n",
    "\n",
    "blur = cv2.GaussianBlur(img,(7,7),0)\n",
    "cv2.imshow('blur', img)\n",
    "cv2.imwrite('blur1.jpg',img)\n",
    "\n",
    "x,threshold = cv2.threshold(blur, 200, 255, cv2.THRESH_BINARY) \n",
    "cv2.imshow('Binary threshold', threshold)\n",
    "cv2.imwrite('binarythresh1.jpg',img)\n",
    "\n",
    "ret2,th2 = cv2.threshold(blur,0,255,cv2.THRESH_BINARY+cv2.THRESH_OTSU)\n",
    "cv2.imshow('Otsus Thresholding', th2)\n",
    "cv2.imwrite('Otsus.jpg',img)\n",
    "\n",
    "cv2.waitKey(0)"
   ]
  },
  {
   "cell_type": "code",
   "execution_count": null,
   "id": "9544cd25",
   "metadata": {},
   "outputs": [],
   "source": []
  }
 ],
 "metadata": {
  "kernelspec": {
   "display_name": "Python 3 (ipykernel)",
   "language": "python",
   "name": "python3"
  },
  "language_info": {
   "codemirror_mode": {
    "name": "ipython",
    "version": 3
   },
   "file_extension": ".py",
   "mimetype": "text/x-python",
   "name": "python",
   "nbconvert_exporter": "python",
   "pygments_lexer": "ipython3",
   "version": "3.9.12"
  }
 },
 "nbformat": 4,
 "nbformat_minor": 5
}
