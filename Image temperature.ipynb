{
 "cells": [
  {
   "cell_type": "code",
   "execution_count": 2,
   "id": "1beef8a4",
   "metadata": {},
   "outputs": [
    {
     "data": {
      "text/plain": [
       "-1"
      ]
     },
     "execution_count": 2,
     "metadata": {},
     "output_type": "execute_result"
    }
   ],
   "source": [
    "#Code Resource - http://www.askaswiss.com/2016/02/how-to-manipulate-color-temperature-opencv-python.html\n",
    "\n",
    "import cv2\n",
    "import numpy as np\n",
    "import collections\n",
    "import matplotlib.pyplot as plt\n",
    "from scipy.interpolate import UnivariateSpline\n",
    "\n",
    "def create_LUT_8UC1(x, y):\n",
    "    spl = UnivariateSpline(x, y)\n",
    "    return spl(range(256))\n",
    "\n",
    "incr_ch_lut = create_LUT_8UC1([0, 64, 128, 192, 256],[0, 70, 140, 210, 256])\n",
    "decr_ch_lut = create_LUT_8UC1([0, 64, 128, 192, 256],[0, 30, 80, 120, 192])\n",
    "\n",
    "img_bgr_in = cv2.imread(\"hist.png\")\n",
    " \n",
    "c_b, c_g, c_r = cv2.split(img_bgr_in)\n",
    "c_r = cv2.LUT(c_r, incr_ch_lut).astype(np.uint8)\n",
    "c_b = cv2.LUT(c_b, decr_ch_lut).astype(np.uint8)\n",
    "img_bgr_warm = cv2.merge((c_b, c_g, c_r))\n",
    "c_b = cv2.LUT(c_b, decr_ch_lut).astype(np.uint8)\n",
    " \n",
    "c_h, c_s, c_v = cv2.split(cv2.cvtColor(img_bgr_warm,cv2.COLOR_BGR2HSV))\n",
    "c_s = cv2.LUT(c_s, incr_ch_lut).astype(np.uint8)\n",
    " \n",
    "img_bgr_warm = cv2.cvtColor(cv2.merge((c_h, c_s, c_v)),cv2.COLOR_HSV2BGR)\n",
    "\n",
    "cv2.imshow(\"Image temperature\",img_bgr_warm)\n",
    "cv2.waitKey(0)"
   ]
  },
  {
   "cell_type": "code",
   "execution_count": null,
   "id": "ddf5dac1",
   "metadata": {},
   "outputs": [],
   "source": []
  }
 ],
 "metadata": {
  "kernelspec": {
   "display_name": "Python 3 (ipykernel)",
   "language": "python",
   "name": "python3"
  },
  "language_info": {
   "codemirror_mode": {
    "name": "ipython",
    "version": 3
   },
   "file_extension": ".py",
   "mimetype": "text/x-python",
   "name": "python",
   "nbconvert_exporter": "python",
   "pygments_lexer": "ipython3",
   "version": "3.9.12"
  }
 },
 "nbformat": 4,
 "nbformat_minor": 5
}
