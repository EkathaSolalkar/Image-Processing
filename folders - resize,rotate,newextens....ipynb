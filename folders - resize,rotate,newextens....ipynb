{
 "cells": [
  {
   "cell_type": "code",
   "execution_count": 1,
   "id": "8e58f810",
   "metadata": {},
   "outputs": [
    {
     "data": {
      "text/plain": [
       "'C:\\\\Users\\\\User\\\\Image Processing'"
      ]
     },
     "execution_count": 1,
     "metadata": {},
     "output_type": "execute_result"
    }
   ],
   "source": [
    "from PIL import Image\n",
    "import os\n",
    "os.getcwd()"
   ]
  },
  {
   "cell_type": "code",
   "execution_count": 3,
   "id": "f121858f",
   "metadata": {},
   "outputs": [
    {
     "data": {
      "text/plain": [
       "['.ipynb_checkpoints',\n",
       " '1img.jpg',\n",
       " '2img.jpg',\n",
       " 'Adaptive+Gaussian Thresholding.ipynb',\n",
       " 'AG.jpg',\n",
       " 'AM.jpg',\n",
       " 'bg image.png',\n",
       " 'butterfly1.jpg',\n",
       " 'camera.ipynb',\n",
       " 'cat.jfif',\n",
       " 'cat_damaged.png',\n",
       " 'cat_inpainted.png',\n",
       " 'cat_mask.png',\n",
       " 'contours.ipynb',\n",
       " 'crop.png',\n",
       " 'cropped_image.jpg',\n",
       " 'dice.png',\n",
       " 'difference.ipynb',\n",
       " 'dog.png',\n",
       " 'download (1).jfif',\n",
       " 'face.jfif',\n",
       " 'foreground.jfif',\n",
       " 'Global.jpg',\n",
       " 'image manipulation.ipynb',\n",
       " 'image operations.ipynb',\n",
       " 'images (1).png',\n",
       " 'images (2).png',\n",
       " 'images.png',\n",
       " 'img2.jfif',\n",
       " 'intensity.ipynb',\n",
       " 'logo.jpg',\n",
       " 'montage.ipynb',\n",
       " 'montage.png',\n",
       " 'Moon.jpg',\n",
       " 'moon1.png',\n",
       " 'nature.jfif',\n",
       " 'nature.jpg',\n",
       " 'new.jfif',\n",
       " 'new.jpg',\n",
       " 'Noise.ipynb',\n",
       " 'noise.jfif',\n",
       " 'noiseblur.ipynb',\n",
       " 'original_image.jpg',\n",
       " 'page.jpg',\n",
       " 'program1.ipynb',\n",
       " 'RdWrtSv.ipynb',\n",
       " 'ReomveText.jpg',\n",
       " 'ReomveText.png',\n",
       " 'RESTORATION.ipynb',\n",
       " 'sampling.ipynb',\n",
       " 'segmentation.ipynb',\n",
       " 'slicing.jpg',\n",
       " 'star.png',\n",
       " 'textremove.jpg',\n",
       " 'text_removed_image.jpg',\n",
       " 'tiger.jfif',\n",
       " 'tri.jpg',\n",
       " 'triangle.png',\n",
       " 'unnamed.jpg',\n",
       " 'Untitled.ipynb',\n",
       " 'Watermarks.png',\n",
       " 'website.jfif',\n",
       " 'website.jpg']"
      ]
     },
     "execution_count": 3,
     "metadata": {},
     "output_type": "execute_result"
    }
   ],
   "source": [
    "os.listdir()"
   ]
  },
  {
   "cell_type": "code",
   "execution_count": 4,
   "id": "a35c5723",
   "metadata": {},
   "outputs": [
    {
     "name": "stdout",
     "output_type": "stream",
     "text": [
      "1img & .jpg\n",
      "2img & .jpg\n",
      "AG & .jpg\n",
      "AM & .jpg\n",
      "butterfly1 & .jpg\n",
      "cropped_image & .jpg\n",
      "Global & .jpg\n",
      "logo & .jpg\n",
      "Moon & .jpg\n",
      "nature & .jpg\n",
      "new & .jpg\n",
      "original_image & .jpg\n",
      "page & .jpg\n",
      "ReomveText & .jpg\n",
      "slicing & .jpg\n",
      "textremove & .jpg\n",
      "text_removed_image & .jpg\n",
      "tri & .jpg\n",
      "unnamed & .jpg\n",
      "website & .jpg\n"
     ]
    }
   ],
   "source": [
    "for f in os.listdir(\".\"):\n",
    "    if f.endswith(\".jpg\"):\n",
    "        i = Image.open(f)\n",
    "        fn, fext = os.path.splitext(f)\n",
    "        print(fn, \"&\", fext)"
   ]
  },
  {
   "cell_type": "code",
   "execution_count": 5,
   "id": "98f98133",
   "metadata": {},
   "outputs": [
    {
     "name": "stdout",
     "output_type": "stream",
     "text": [
      "1img.jpg\n",
      "2img.jpg\n",
      "AG.jpg\n",
      "AM.jpg\n",
      "butterfly1.jpg\n",
      "cropped_image.jpg\n",
      "Global.jpg\n",
      "logo.jpg\n",
      "Moon.jpg\n",
      "nature.jpg\n",
      "new.jpg\n",
      "original_image.jpg\n",
      "page.jpg\n",
      "ReomveText.jpg\n",
      "slicing.jpg\n",
      "textremove.jpg\n",
      "text_removed_image.jpg\n",
      "tri.jpg\n",
      "unnamed.jpg\n",
      "website.jpg\n"
     ]
    }
   ],
   "source": [
    "#Looping over the image files\n",
    "for f in os.listdir(\".\"):\n",
    "    if f.endswith(\".jpg\"):\n",
    "        print(f)"
   ]
  },
  {
   "cell_type": "code",
   "execution_count": 6,
   "id": "0540c013",
   "metadata": {},
   "outputs": [],
   "source": [
    "# Creating new Directory using OS library\n",
    "os.mkdir('NewExtnsn')\n",
    "# Note: If you already have a directory with this name, you will get error.\n",
    "for f in os.listdir(\".\"):\n",
    "    if f.endswith(\".jpg\"):\n",
    "        i = Image.open(f)\n",
    "        fn, fext = os.path.splitext(f)\n",
    "        i.save(\"NewExtnsn/{}.pdf\".format(fn))"
   ]
  },
  {
   "cell_type": "code",
   "execution_count": 7,
   "id": "96e7e6a9",
   "metadata": {},
   "outputs": [],
   "source": [
    "# Creating new multiple Directories using OS library\n",
    "os.makedirs('resize//small')\n",
    "os.makedirs('resize//tiny')\n",
    "# Note: If you already have a directory with this name, you will get error.\n",
    "size_small = (600,600) # small images of 600 X 600 pixels\n",
    "size_tiny = (200,200)  # tiny images of 200 X 200 pixels\n",
    "for f in os.listdir(\".\"):\n",
    "    if f.endswith(\".jpg\"):\n",
    "        i = Image.open(f)\n",
    "        fn, fext = os.path.splitext(f)\n",
    "        i.thumbnail(size_small)\n",
    "        i.save(\"resize/small/{}_small{}\".format(fn, fext))\n",
    "        i.thumbnail(size_tiny)\n",
    "        i.save(\"resize/tiny/{}_tiny{}\".format(fn, fext))"
   ]
  },
  {
   "cell_type": "code",
   "execution_count": 8,
   "id": "00b9ebd3",
   "metadata": {},
   "outputs": [],
   "source": [
    "# Creating new Directory using OS library\n",
    "os.mkdir('rotate')\n",
    "for f in os.listdir(\".\"):\n",
    "    if f.endswith(\".jpg\"):\n",
    "        i = Image.open(f)\n",
    "        fn, fext = os.path.splitext(f)\n",
    "        im = i.rotate(90)\n",
    "        im.save(\"rotate/{}_rot.{}\".format(fn, fext))"
   ]
  },
  {
   "cell_type": "code",
   "execution_count": null,
   "id": "353fc7d9",
   "metadata": {},
   "outputs": [],
   "source": []
  }
 ],
 "metadata": {
  "kernelspec": {
   "display_name": "Python 3 (ipykernel)",
   "language": "python",
   "name": "python3"
  },
  "language_info": {
   "codemirror_mode": {
    "name": "ipython",
    "version": 3
   },
   "file_extension": ".py",
   "mimetype": "text/x-python",
   "name": "python",
   "nbconvert_exporter": "python",
   "pygments_lexer": "ipython3",
   "version": "3.9.12"
  }
 },
 "nbformat": 4,
 "nbformat_minor": 5
}
